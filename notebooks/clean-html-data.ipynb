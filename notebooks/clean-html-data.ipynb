{
 "cells": [
  {
   "cell_type": "code",
   "execution_count": 1,
   "id": "210e4714-10bc-4a3f-be78-f57db2702c44",
   "metadata": {},
   "outputs": [
    {
     "name": "stdout",
     "output_type": "stream",
     "text": [
      "Requirement already satisfied: nltk in /usr/local/python/3.10.8/lib/python3.10/site-packages (3.8.1)\n",
      "Requirement already satisfied: click in /usr/local/python/3.10.8/lib/python3.10/site-packages (from nltk) (8.1.3)\n",
      "Requirement already satisfied: joblib in /home/codespace/.local/lib/python3.10/site-packages (from nltk) (1.2.0)\n",
      "Requirement already satisfied: regex>=2021.8.3 in /usr/local/python/3.10.8/lib/python3.10/site-packages (from nltk) (2023.6.3)\n",
      "Requirement already satisfied: tqdm in /usr/local/python/3.10.8/lib/python3.10/site-packages (from nltk) (4.64.0)\n",
      "Note: you may need to restart the kernel to use updated packages.\n",
      "Requirement already satisfied: scikit-learn in /home/codespace/.local/lib/python3.10/site-packages (1.2.2)\n",
      "Requirement already satisfied: numpy>=1.17.3 in /usr/local/python/3.10.8/lib/python3.10/site-packages (from scikit-learn) (1.24.2)\n",
      "Requirement already satisfied: scipy>=1.3.2 in /home/codespace/.local/lib/python3.10/site-packages (from scikit-learn) (1.10.1)\n",
      "Requirement already satisfied: joblib>=1.1.1 in /home/codespace/.local/lib/python3.10/site-packages (from scikit-learn) (1.2.0)\n",
      "Requirement already satisfied: threadpoolctl>=2.0.0 in /home/codespace/.local/lib/python3.10/site-packages (from scikit-learn) (3.1.0)\n",
      "Note: you may need to restart the kernel to use updated packages.\n",
      "Requirement already satisfied: matplotlib in /usr/local/python/3.10.8/lib/python3.10/site-packages (3.7.0)\n",
      "Requirement already satisfied: contourpy>=1.0.1 in /home/codespace/.local/lib/python3.10/site-packages (from matplotlib) (1.1.0)\n",
      "Requirement already satisfied: cycler>=0.10 in /home/codespace/.local/lib/python3.10/site-packages (from matplotlib) (0.11.0)\n",
      "Requirement already satisfied: fonttools>=4.22.0 in /home/codespace/.local/lib/python3.10/site-packages (from matplotlib) (4.40.0)\n",
      "Requirement already satisfied: kiwisolver>=1.0.1 in /home/codespace/.local/lib/python3.10/site-packages (from matplotlib) (1.4.4)\n",
      "Requirement already satisfied: numpy>=1.20 in /usr/local/python/3.10.8/lib/python3.10/site-packages (from matplotlib) (1.24.2)\n",
      "Requirement already satisfied: packaging>=20.0 in /home/codespace/.local/lib/python3.10/site-packages (from matplotlib) (23.1)\n",
      "Requirement already satisfied: pillow>=6.2.0 in /home/codespace/.local/lib/python3.10/site-packages (from matplotlib) (9.5.0)\n",
      "Requirement already satisfied: pyparsing>=2.3.1 in /home/codespace/.local/lib/python3.10/site-packages (from matplotlib) (3.0.9)\n",
      "Requirement already satisfied: python-dateutil>=2.7 in /home/codespace/.local/lib/python3.10/site-packages (from matplotlib) (2.8.2)\n",
      "Requirement already satisfied: six>=1.5 in /home/codespace/.local/lib/python3.10/site-packages (from python-dateutil>=2.7->matplotlib) (1.16.0)\n",
      "Note: you may need to restart the kernel to use updated packages.\n"
     ]
    }
   ],
   "source": [
    "# Install dependencies first, then restart the kernel.\n",
    "%pip install nltk\n",
    "%pip install scikit-learn\n",
    "%pip install matplotlib"
   ]
  },
  {
   "cell_type": "code",
   "execution_count": 2,
   "id": "305d4344-86d1-4528-b8b9-ba96c1aa91a1",
   "metadata": {},
   "outputs": [],
   "source": [
    "import xml.etree.ElementTree as ET\n",
    "from bs4 import BeautifulSoup, Tag, Comment\n",
    "import xml.dom.minidom\n",
    "import re\n",
    "\n",
    "def convert_to_element(tag):\n",
    "    if isinstance(tag, Tag):\n",
    "        element = ET.Element(tag.name, tag.attrs)\n",
    "        for child in tag.contents:\n",
    "            if isinstance(child, Tag):\n",
    "                sub_element = convert_to_element(child)\n",
    "                element.append(sub_element)\n",
    "            else:\n",
    "                element.text = child\n",
    "        return element\n",
    "    else:\n",
    "        return ET.Element(tag)\n",
    "\n",
    "def extract_body(html):\n",
    "    soup = BeautifulSoup(html, 'html.parser')\n",
    "\n",
    "    # Remove whitespace nodes\n",
    "    def remove_whitespace_nodes(node):\n",
    "        if not isinstance(node, str):\n",
    "            for child in node.contents:\n",
    "                if isinstance(child, str) and len(child.strip()) == 0:\n",
    "                    child.extract()\n",
    "                else:\n",
    "                    remove_whitespace_nodes(child)\n",
    "\n",
    "    remove_whitespace_nodes(soup)\n",
    "\n",
    "    # Remove script tags (JavaScript)\n",
    "    for script in soup.find_all('script'):\n",
    "        script.extract()\n",
    "    for script in soup.find_all('noscript'):\n",
    "        script.extract()\n",
    "\n",
    "    # Remove style tags (CSS)\n",
    "    for style in soup.find_all('style'):\n",
    "        style.extract()\n",
    "\n",
    "    # Remove comments\n",
    "    comments = soup.find_all(string=lambda text: isinstance(text, Comment))\n",
    "    for comment in comments:\n",
    "        comment.extract()\n",
    "    \n",
    "    # Remove SVG images because these have complex\n",
    "    # drawing paths that we are not interested in\n",
    "    for style in soup.find_all('svg'):\n",
    "        style.extract()\n",
    "\n",
    "    # For the same reason, discard Form and Input elements.\n",
    "    for style in soup.find_all('form'):\n",
    "        style.extract()\n",
    "    for style in soup.find_all('input'):\n",
    "        style.extract()\n",
    "\n",
    "    # Extract body\n",
    "    body = soup.body\n",
    "\n",
    "    # Remove \"class\" attributes from all elements\n",
    "    def remove_class_attributes(tag):\n",
    "        #if tag.has_attr('class'):\n",
    "        #    del tag['class']\n",
    "        \n",
    "        # Also remove data- attributes\n",
    "        # and aria-, style CSS, IDs, and other noisy\n",
    "        # attributes.\n",
    "        for attr in list(tag.attrs):\n",
    "            if not attr in [\"alt\", \"title\", \"src\", \"href\"]:\n",
    "                del tag[attr]\n",
    "\n",
    "            # Also remove empty keys\n",
    "            elif tag[attr].strip() == \"\":\n",
    "                del tag[attr]\n",
    "            \n",
    "        #    if attr.startswith('data-'):\n",
    "        #        del tag[attr]\n",
    "        #    elif attr.startswith('aria-'):\n",
    "        #        del tag[attr]\n",
    "        #    elif attr == 'style':\n",
    "        #        del tag[attr]\n",
    "        #    elif attr == 'id':\n",
    "        #        del tag[attr]\n",
    "        #    elif attr in ['height', 'loading', 'width', 'tabindex', 'dir', 'target', 'role', 'type']:\n",
    "        #        del tag[attr]\n",
    "        \n",
    "        for child in tag.children:\n",
    "            if isinstance(child, Tag):\n",
    "                remove_class_attributes(child)\n",
    "\n",
    "    remove_class_attributes(body)\n",
    "\n",
    "    # Remove empty nodes\n",
    "    def remove_empty_nodes(tag):\n",
    "        children = tag.contents\n",
    "        for child in children:\n",
    "            if isinstance(child, Tag):\n",
    "                if len(child.contents) > 0:\n",
    "                    remove_empty_nodes(child)\n",
    "                if len(child.contents) == 0 and len(child.attrs.keys()) == 0:\n",
    "                    child.extract()\n",
    "\n",
    "    remove_empty_nodes(body)\n",
    "    \n",
    "    # Convert body contents to XML\n",
    "    xml = str(body)\n",
    "\n",
    "    return xml\n"
   ]
  },
  {
   "cell_type": "markdown",
   "id": "d9fe0efe-1013-44ac-a4e1-5c3c69bfcb8d",
   "metadata": {},
   "source": [
    "## Example usage of the extraction"
   ]
  },
  {
   "cell_type": "code",
   "execution_count": 3,
   "id": "55bb197c-d6d6-42de-9920-e3ae9efa1303",
   "metadata": {},
   "outputs": [
    {
     "name": "stdout",
     "output_type": "stream",
     "text": [
      "<?xml version=\"1.0\" ?>\n",
      "<body>\n",
      "  <h1>Hello, world!</h1>\n",
      "  <p>This is an example HTML.</p>\n",
      "  <div>\n",
      "    <p>Some information</p>\n",
      "    <p>A note</p>\n",
      "  </div>\n",
      "</body>\n",
      "\n"
     ]
    }
   ],
   "source": [
    "html = '''\n",
    "<html>\n",
    "<head>\n",
    "    <title>Example HTML</title>\n",
    "    <style>\n",
    "        body {\n",
    "            background-color: #f0f0f0;\n",
    "        }\n",
    "    </style>\n",
    "</head>\n",
    "<body>\n",
    "    <h1 class=\"heading\">Hello, world!</h1>\n",
    "    <p>This is an example HTML.</p>\n",
    "    <div class=\"container\" data-info=\"some-info\" data-value=\"42\">\n",
    "        <p class=\"info\">Some information</p>\n",
    "        <p class=\"note\">A note</p>\n",
    "    </div><div><div><div></div></div></div>\n",
    "    <script>\n",
    "        alert('This is JavaScript');\n",
    "    </script>\n",
    "</body>\n",
    "</html>\n",
    "'''\n",
    "\n",
    "xml_output = re.sub('>\\n+<', '><', extract_body(html))\n",
    "\n",
    "\n",
    "dom = xml.dom.minidom.parseString(xml_output)\n",
    "formatted_xml = dom.toprettyxml(indent='  ')\n",
    "\n",
    "print(formatted_xml)"
   ]
  },
  {
   "cell_type": "markdown",
   "id": "defaa5a2-cb5a-4936-be57-3c2182644dd5",
   "metadata": {},
   "source": [
    "# Sample Yahoo Site Data starts here.\n",
    "\n",
    "We are going to use this as a starting point to process all the other HTML data that we downloaded as part of the dataset, into a \"clean\" representation which can then be converted into a tokenized representation for Machine Learning, or it can be coupled with other cross-domain data using a Template Rule."
   ]
  },
  {
   "cell_type": "code",
   "execution_count": 4,
   "id": "f28223de-6a4f-430e-81b5-016d58023611",
   "metadata": {
    "editable": true,
    "slideshow": {
     "slide_type": ""
    },
    "tags": []
   },
   "outputs": [],
   "source": [
    "with open(\"../data/yahoo.com.html\") as f:\n",
    "    yahoo_html = f.read()\n",
    "\n",
    "xml_output = extract_body(yahoo_html)\n",
    "#print(xml_output[335671-100:335671+100])\n",
    "\n",
    "dom = xml.dom.minidom.parseString(xml_output)\n",
    "formatted_xml = dom.toprettyxml(indent='  ')\n",
    "\n",
    "#print(formatted_xml)"
   ]
  },
  {
   "cell_type": "markdown",
   "id": "25eb33c5-9bab-4449-a74f-b12165bbf0da",
   "metadata": {},
   "source": [
    "# Data Tokenization\n",
    "\n",
    "To tokenize the XML content into words using the xml.dom.minidom module, you can extract the text content from the DOM nodes and then tokenize the text using appropriate techniques. \n",
    "\n",
    "## Punkt tokenizer\n",
    "\n",
    "The Punkt tokenizer is a pre-trained unsupervised machine learning tokenizer available in the NLTK (Natural Language Toolkit) library. It is designed specifically for tokenizing natural language text, capable of handling various punctuation patterns and ambiguous word boundaries. It uses a combination of unsupervised and supervised learning techniques to determine sentence boundaries and word tokenization, and has been trained on large corpora and can handle a wide range of languages and text genres.\n",
    "\n",
    "Punkt is a widely used and reliable tool for tokenizing natural language text in many NLP (Natural Language Processing) tasks, including text analysis, information retrieval, and machine learning algorithms that require tokenized input, but it must be downloaded first:"
   ]
  },
  {
   "cell_type": "code",
   "execution_count": 5,
   "id": "3f2ffc81-e2cb-42d7-a6f3-a46ae29e8383",
   "metadata": {},
   "outputs": [
    {
     "name": "stderr",
     "output_type": "stream",
     "text": [
      "[nltk_data] Downloading package punkt to /home/codespace/nltk_data...\n",
      "[nltk_data]   Package punkt is already up-to-date!\n",
      "[nltk_data] Downloading package stopwords to\n",
      "[nltk_data]     /home/codespace/nltk_data...\n",
      "[nltk_data]   Package stopwords is already up-to-date!\n"
     ]
    },
    {
     "data": {
      "text/plain": [
       "True"
      ]
     },
     "execution_count": 5,
     "metadata": {},
     "output_type": "execute_result"
    }
   ],
   "source": [
    "import nltk\n",
    "nltk.download('punkt')\n",
    "nltk.download('stopwords')"
   ]
  },
  {
   "cell_type": "code",
   "execution_count": 6,
   "id": "bcaed1b7-da92-4e92-ba0d-3d6c610ce0d8",
   "metadata": {},
   "outputs": [],
   "source": [
    "# Code for tokenizing the XML\n",
    "from nltk.tokenize import word_tokenize\n",
    "from nltk.corpus import stopwords\n",
    "\n",
    "def extract_text_from_tags(dom):\n",
    "    extracted_text = ''\n",
    "\n",
    "    def extract_text(node):\n",
    "        nonlocal extracted_text\n",
    "\n",
    "        if node.nodeType == node.TEXT_NODE:\n",
    "            extracted_text += ' ' + node.data.strip()\n",
    "        elif node.nodeType == node.ELEMENT_NODE:\n",
    "            if node.tagName == 'img':\n",
    "                if node.hasAttribute('alt'):\n",
    "                    extracted_text += ' ' + node.getAttribute('alt')\n",
    "            if node.hasAttribute('title'):\n",
    "                extracted_text += ' ' + node.getAttribute('title')\n",
    "\n",
    "            for child in node.childNodes:\n",
    "                extract_text(child)\n",
    "\n",
    "    body = dom.documentElement\n",
    "    for child in body.childNodes:\n",
    "        extract_text(child)\n",
    "\n",
    "    return extracted_text.strip()\n",
    "\n",
    "tokenized_text = nltk.word_tokenize(extract_text_from_tags(dom))\n",
    "# Remove tokens with symbols using regular expressions\n",
    "tokenized_text = [token for token in tokenized_text if re.match(r'^[-a-zA-Z0-9]+$', token)]\n",
    "\n",
    "# Remove tokens that are entirely numbers\n",
    "tokenized_text = [token for token in tokenized_text if not token.isdigit()]\n",
    "\n",
    "# Remove tokens that are one character long\n",
    "tokenized_text = [token for token in tokenized_text if len(token) > 1]\n",
    "\n",
    "# Define common stopwords/conjunctions/pronouns\n",
    "stopwords_list = set(stopwords.words('english'))\n",
    "\n",
    "# Remove common stopwords\n",
    "tokenized_text = [token for token in tokenized_text if token.lower() not in stopwords_list]\n",
    "\n",
    "# Convert titlecase tokens to lowercase, except for ALL CAPS tokens\n",
    "tokenized_text = [token.lower() if not token.isupper() else token for token in tokenized_text]"
   ]
  },
  {
   "cell_type": "markdown",
   "id": "c01ddf9b-5a84-4cd9-804a-c424fa181cbb",
   "metadata": {},
   "source": [
    "## Token vectorizers\n",
    "\n",
    "At this point, we have a choice between two machine learning algorithms for classifying the data - we can use Bag of Words which just counts the frequency of the terms in the documet, or we can use TF/IDF which stands for *Term Frequency times the Inverse Document Frequency* (the \"IDF\" being the *inverse* of the number of times the term appears in the document).\n",
    "\n",
    "TF/IDF is more readily compared between different documents and so this is the metric that we will settle with. We will consider only terms with a frequency of 0.25 or greater."
   ]
  },
  {
   "cell_type": "code",
   "execution_count": 7,
   "id": "ad985ac2-93c5-4a17-a3b2-c00e8b7a4c5d",
   "metadata": {},
   "outputs": [
    {
     "name": "stdout",
     "output_type": "stream",
     "text": [
      "\n",
      "Top tokens (TF-IDF):\n",
      "feedback: 0.5252794262274542\n",
      "thanks: 0.5252794262274542\n",
      "sports: 0.30585890641092267\n",
      "yahoo: 0.25931515978317354\n"
     ]
    }
   ],
   "source": [
    "from sklearn.feature_extraction.text import CountVectorizer, TfidfVectorizer\n",
    "\n",
    "threshold = 0.25\n",
    "# Calculate TF-IDF\n",
    "tfidf_vectorizer = TfidfVectorizer()\n",
    "tfidf = tfidf_vectorizer.fit_transform([\" \".join(tokenized_text)])\n",
    "\n",
    "# Get top tokens according to the threshold and TF-IDF scores\n",
    "feature_names_tfidf = tfidf_vectorizer.get_feature_names_out()\n",
    "input_data = [x for x in zip(feature_names_tfidf, tfidf.toarray()[0]) if x[1] >= 0.25]\n",
    "top_tokens_tfidf = sorted(input_data, key=lambda x: x[1], reverse=True)\n",
    "print(f\"\\nTop tokens (TF-IDF):\")\n",
    "for token, score in top_tokens_tfidf:\n",
    "    print(f\"{token}: {score}\")"
   ]
  },
  {
   "cell_type": "code",
   "execution_count": 9,
   "id": "cadb7a0c-2d63-4cda-b13d-5734a8ba1b21",
   "metadata": {},
   "outputs": [
    {
     "data": {
      "image/png": "[encoded data removed]",
      "text/plain": [
       "<Figure size 640x480 with 1 Axes>"
      ]
     },
     "metadata": {},
     "output_type": "display_data"
    }
   ],
   "source": [
    "import matplotlib.pyplot as plt\n",
    "\n",
    "# Extract tokens and scores in one line\n",
    "tokens, scores = zip(*top_tokens_tfidf)\n",
    "\n",
    "# Plot the TF-IDF scores\n",
    "plt.bar(tokens, scores)\n",
    "plt.xlabel('Tokens')\n",
    "plt.ylabel('TF-IDF Score')\n",
    "plt.title('Top yahoo.com Tokens by TF-IDF Score')\n",
    "plt.xticks(rotation=45)\n",
    "plt.tight_layout()\n",
    "plt.show()"
   ]
  },
  {
   "cell_type": "code",
   "execution_count": null,
   "id": "3cfeb54a-d0ca-4685-9393-28a5c9f1f660",
   "metadata": {},
   "outputs": [],
   "source": []
  }
 ],
 "metadata": {
  "kernelspec": {
   "display_name": "Python 3 (ipykernel)",
   "language": "python",
   "name": "python3"
  },
  "language_info": {
   "codemirror_mode": {
    "name": "ipython",
    "version": 3
   },
   "file_extension": ".py",
   "mimetype": "text/x-python",
   "name": "python",
   "nbconvert_exporter": "python",
   "pygments_lexer": "ipython3",
   "version": "3.10.8"
  }
 },
 "nbformat": 4,
 "nbformat_minor": 5
}
